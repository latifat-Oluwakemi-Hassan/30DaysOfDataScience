{
 "cells": [
  {
   "cell_type": "code",
   "execution_count": 1,
   "id": "c2e162f2",
   "metadata": {},
   "outputs": [
    {
     "name": "stdout",
     "output_type": "stream",
     "text": [
      "five is greater than two.\n"
     ]
    }
   ],
   "source": [
    "if 5>2:\n",
    "    print(\"five is greater than two.\")#"
   ]
  },
  {
   "cell_type": "code",
   "execution_count": 3,
   "id": "cf639f60",
   "metadata": {},
   "outputs": [
    {
     "ename": "IndentationError",
     "evalue": "unexpected indent (Temp/ipykernel_15800/1784737948.py, line 2)",
     "output_type": "error",
     "traceback": [
      "\u001b[1;36m  File \u001b[1;32m\"C:\\Users\\HASSAN~1\\AppData\\Local\\Temp/ipykernel_15800/1784737948.py\"\u001b[1;36m, line \u001b[1;32m2\u001b[0m\n\u001b[1;33m    name = \"Alice\"\u001b[0m\n\u001b[1;37m    ^\u001b[0m\n\u001b[1;31mIndentationError\u001b[0m\u001b[1;31m:\u001b[0m unexpected indent\n"
     ]
    }
   ],
   "source": [
    " # Assigning values to variable.\n",
    "    name = \"Alice\"\n",
    "    age= \"25\"\n",
    "    height = \"5.7\"\n",
    " # print(name)\n",
    " # print(age)\n",
    " # print(height)"
   ]
  },
  {
   "cell_type": "code",
   "execution_count": 6,
   "id": "7760aa23",
   "metadata": {},
   "outputs": [
    {
     "ename": "SyntaxError",
     "evalue": "invalid syntax (Temp/ipykernel_15800/3986012983.py, line 2)",
     "output_type": "error",
     "traceback": [
      "\u001b[1;36m  File \u001b[1;32m\"C:\\Users\\HASSAN~1\\AppData\\Local\\Temp/ipykernel_15800/3986012983.py\"\u001b[1;36m, line \u001b[1;32m2\u001b[0m\n\u001b[1;33m    name=|\"Alice\"\u001b[0m\n\u001b[1;37m         ^\u001b[0m\n\u001b[1;31mSyntaxError\u001b[0m\u001b[1;31m:\u001b[0m invalid syntax\n"
     ]
    }
   ],
   "source": [
    "# Assigning values to variable.\n",
    "name =|\"Alice\"\n",
    "age= 25\n",
    "height=5.7\n",
    "# print(name)\n",
    "# print(age)\n",
    "# print(height)\n"
   ]
  },
  {
   "cell_type": "code",
   "execution_count": 8,
   "id": "28f009ed",
   "metadata": {},
   "outputs": [
    {
     "ename": "SyntaxError",
     "evalue": "invalid syntax (Temp/ipykernel_15800/3154974760.py, line 2)",
     "output_type": "error",
     "traceback": [
      "\u001b[1;36m  File \u001b[1;32m\"C:\\Users\\HASSAN~1\\AppData\\Local\\Temp/ipykernel_15800/3154974760.py\"\u001b[1;36m, line \u001b[1;32m2\u001b[0m\n\u001b[1;33m    name =|Alice\u001b[0m\n\u001b[1;37m          ^\u001b[0m\n\u001b[1;31mSyntaxError\u001b[0m\u001b[1;31m:\u001b[0m invalid syntax\n"
     ]
    }
   ],
   "source": [
    "# Assigning values to variable.\n",
    "name =|Alice\n",
    "age= 25\n",
    "height=5.7\n",
    "# print(name)\n",
    "# print(age)\n",
    "# print(height)\n"
   ]
  },
  {
   "cell_type": "code",
   "execution_count": 9,
   "id": "5b1e7a93",
   "metadata": {},
   "outputs": [
    {
     "name": "stdout",
     "output_type": "stream",
     "text": [
      "Alice\n",
      "25\n",
      "5.7\n"
     ]
    }
   ],
   "source": [
    "# Assigning values to variables\n",
    "name = \"Alice\"\n",
    "age = 25\n",
    "height = 5.7\n",
    "# Printing variable values\n",
    "print(name) \n",
    "print(age)   \n",
    "print(height)"
   ]
  },
  {
   "cell_type": "code",
   "execution_count": 11,
   "id": "a39087b6",
   "metadata": {},
   "outputs": [
    {
     "name": "stdout",
     "output_type": "stream",
     "text": [
      "Hello, world\n",
      "2025\n",
      "5.24189\n",
      "True\n"
     ]
    }
   ],
   "source": [
    "# Different data types.\n",
    "# string\n",
    "greeting = \"Hello, world\"\n",
    "#integer\n",
    "year = 2025\n",
    "# float\n",
    "pi = 5.24189\n",
    "# boolean\n",
    "is_active = True\n",
    "print(greeting)\n",
    "print(year)\n",
    "print(pi)\n",
    "print(is_active)"
   ]
  },
  {
   "cell_type": "code",
   "execution_count": 13,
   "id": "477e7400",
   "metadata": {},
   "outputs": [
    {
     "name": "stdout",
     "output_type": "stream",
     "text": [
      "11\n"
     ]
    }
   ],
   "source": [
    "# Update variables.\n",
    "count = 10\n",
    "count += 1 # increment by 1\n",
    "print(count)"
   ]
  },
  {
   "cell_type": "code",
   "execution_count": null,
   "id": "e9ed1866",
   "metadata": {},
   "outputs": [],
   "source": []
  }
 ],
 "metadata": {
  "kernelspec": {
   "display_name": "Python 3 (ipykernel)",
   "language": "python",
   "name": "python3"
  },
  "language_info": {
   "codemirror_mode": {
    "name": "ipython",
    "version": 3
   },
   "file_extension": ".py",
   "mimetype": "text/x-python",
   "name": "python",
   "nbconvert_exporter": "python",
   "pygments_lexer": "ipython3",
   "version": "3.9.7"
  }
 },
 "nbformat": 4,
 "nbformat_minor": 5
}
